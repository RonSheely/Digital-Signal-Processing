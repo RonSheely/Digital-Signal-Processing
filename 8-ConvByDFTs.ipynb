{
  "cells": [
    {
      "cell_type": "code",
      "execution_count": 1,
      "metadata": {
        "id": "fxLfsY4tTvRQ"
      },
      "outputs": [],
      "source": [
        "import numpy as np\n",
        "import matplotlib.pyplot as plt"
      ]
    },
    {
      "cell_type": "code",
      "execution_count": 2,
      "metadata": {},
      "outputs": [
        {
          "name": "stdout",
          "output_type": "stream",
          "text": [
            "[ 2  4  7 13 19 13 17 15]\n"
          ]
        }
      ],
      "source": [
        "x =  [1,2,3,4,5]\n",
        "h =  [2,0,1,3]\n",
        "N = len(x)+len(h)-1\n",
        "y = np.convolve(x,h,'full')\n",
        "print(y)"
      ]
    },
    {
      "cell_type": "code",
      "execution_count": 4,
      "metadata": {
        "id": "gsj-v0wAVjny"
      },
      "outputs": [],
      "source": [
        "# DFT\n",
        "def DFT(x,N):\n",
        "    X = np.zeros(N,dtype = 'complex_')\n",
        "    for k in range(N):\n",
        "        for n in range(N):\n",
        "            X[k] = X[k] + x[n]*np.exp(-1j*2*np.pi*k*n/N)\n",
        "    return X"
      ]
    },
    {
      "cell_type": "code",
      "execution_count": 3,
      "metadata": {},
      "outputs": [],
      "source": [
        "# DFT\n",
        "def DFT(x,N):\n",
        "    X = np.zeros(N, dtype='complex_')\n",
        "    for k in range(N):\n",
        "        for n in range(N):\n",
        "            X[k] = X[k]+ x[n]*np.exp(-1j*2*np.pi*k*n/N)\n",
        "    return X"
      ]
    },
    {
      "cell_type": "code",
      "execution_count": 5,
      "metadata": {
        "id": "lWSyGo2mShqY"
      },
      "outputs": [],
      "source": [
        "# IDFT\n",
        "def IDFT(X, N):\n",
        "    y = np.zeros(N,dtype = 'complex_')\n",
        "    for n in range(N):\n",
        "        for k in range(N):\n",
        "            y[n] = y[n] + X[k]*np.exp(1j*2*np.pi*k*n/N)\n",
        "    \n",
        "    return y/N"
      ]
    },
    {
      "cell_type": "code",
      "execution_count": 4,
      "metadata": {},
      "outputs": [],
      "source": [
        "# IDFT\n",
        "def IDFT(X,N):\n",
        "    y = np.zeros(N, dtype='complex_')\n",
        "    for n in range(N):\n",
        "        for k in range(N):\n",
        "            y[n] = y[n]+X[k]*np.exp(1j*2*np.pi*k*n/N)\n",
        "    return y/N"
      ]
    },
    {
      "cell_type": "code",
      "execution_count": 7,
      "metadata": {
        "colab": {
          "base_uri": "https://localhost:8080/"
        },
        "id": "yooDiI98VsRf",
        "outputId": "f6893dba-4ac7-4294-d9f6-cf2f0341f4c1"
      },
      "outputs": [
        {
          "name": "stdout",
          "output_type": "stream",
          "text": [
            "[ 2.  4.  7. 13. 19. 13. 17. 15.]\n",
            "[ 9.00000000e+01+0.00000000e+00j -2.19497475e+01+1.77781746e+01j\n",
            " -3.00000000e+00+1.10000000e+01j -1.20502525e+01-2.22182541e+00j\n",
            "  1.25979822e-30-2.57175828e-15j -1.20502525e+01+2.22182541e+00j\n",
            " -3.00000000e+00-1.10000000e+01j -2.19497475e+01-1.77781746e+01j]\n"
          ]
        }
      ],
      "source": [
        "x = np.pad(x, (0, N-len(x)), 'constant')\n",
        "h = np.pad(h, (0, N-len(h)), 'constant')\n",
        "X = DFT(x,N)\n",
        "H = DFT(h,N)\n",
        "Y = X*H\n",
        "y = np.real(IDFT(Y,N))"
      ]
    },
    {
      "cell_type": "code",
      "execution_count": 8,
      "metadata": {},
      "outputs": [
        {
          "name": "stdout",
          "output_type": "stream",
          "text": [
            "[ 2.  4.  7. 13. 19. 13. 17. 15.]\n"
          ]
        }
      ],
      "source": [
        "x = np.pad(x,(0,N-len(x)),'constant')\n",
        "h = np.pad(h, (0,N-len(h)),'constant')\n",
        "X = DFT(x,N)\n",
        "H = DFT(h,N)\n",
        "Y = X*H\n",
        "y = np.real(IDFT(Y,N))\n",
        "print(y)"
      ]
    }
  ],
  "metadata": {
    "colab": {
      "provenance": []
    },
    "kernelspec": {
      "display_name": "Python 3",
      "name": "python3"
    },
    "language_info": {
      "codemirror_mode": {
        "name": "ipython",
        "version": 3
      },
      "file_extension": ".py",
      "mimetype": "text/x-python",
      "name": "python",
      "nbconvert_exporter": "python",
      "pygments_lexer": "ipython3",
      "version": "3.9.13"
    }
  },
  "nbformat": 4,
  "nbformat_minor": 0
}
